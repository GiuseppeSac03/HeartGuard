{
 "cells": [
  {
   "cell_type": "markdown",
   "metadata": {},
   "source": [
    "# **Data Preparation**\n",
    "\n",
    "## **Introduzione**\n",
    "In questa fase, ci concentriamo sulla preparazione del dataset per garantire che sia pronto per la modellazione. Le attività principali includono la pulizia dei dati, la creazione di nuove feature, la standardizzazione e la selezione delle variabili più rilevanti.\n"
   ]
  },
  {
   "cell_type": "markdown",
   "metadata": {},
   "source": [
    "\n",
    "## **1. Caricamento del Dataset**\n",
    "Iniziamo caricando il dataset `cardio_train.csv` per esaminarne il contenuto e le caratteristiche principali.\n"
   ]
  },
  {
   "cell_type": "code",
   "execution_count": 25,
   "metadata": {},
   "outputs": [
    {
     "data": {
      "text/html": [
       "<div>\n",
       "<style scoped>\n",
       "    .dataframe tbody tr th:only-of-type {\n",
       "        vertical-align: middle;\n",
       "    }\n",
       "\n",
       "    .dataframe tbody tr th {\n",
       "        vertical-align: top;\n",
       "    }\n",
       "\n",
       "    .dataframe thead th {\n",
       "        text-align: right;\n",
       "    }\n",
       "</style>\n",
       "<table border=\"1\" class=\"dataframe\">\n",
       "  <thead>\n",
       "    <tr style=\"text-align: right;\">\n",
       "      <th></th>\n",
       "      <th>id</th>\n",
       "      <th>age</th>\n",
       "      <th>gender</th>\n",
       "      <th>height</th>\n",
       "      <th>weight</th>\n",
       "      <th>ap_hi</th>\n",
       "      <th>ap_lo</th>\n",
       "      <th>cholesterol</th>\n",
       "      <th>gluc</th>\n",
       "      <th>smoke</th>\n",
       "      <th>alco</th>\n",
       "      <th>active</th>\n",
       "      <th>cardio</th>\n",
       "    </tr>\n",
       "  </thead>\n",
       "  <tbody>\n",
       "    <tr>\n",
       "      <th>0</th>\n",
       "      <td>0</td>\n",
       "      <td>18393</td>\n",
       "      <td>2</td>\n",
       "      <td>168</td>\n",
       "      <td>62.0</td>\n",
       "      <td>110</td>\n",
       "      <td>80</td>\n",
       "      <td>1</td>\n",
       "      <td>1</td>\n",
       "      <td>0</td>\n",
       "      <td>0</td>\n",
       "      <td>1</td>\n",
       "      <td>0</td>\n",
       "    </tr>\n",
       "    <tr>\n",
       "      <th>1</th>\n",
       "      <td>1</td>\n",
       "      <td>20228</td>\n",
       "      <td>1</td>\n",
       "      <td>156</td>\n",
       "      <td>85.0</td>\n",
       "      <td>140</td>\n",
       "      <td>90</td>\n",
       "      <td>3</td>\n",
       "      <td>1</td>\n",
       "      <td>0</td>\n",
       "      <td>0</td>\n",
       "      <td>1</td>\n",
       "      <td>1</td>\n",
       "    </tr>\n",
       "    <tr>\n",
       "      <th>2</th>\n",
       "      <td>2</td>\n",
       "      <td>18857</td>\n",
       "      <td>1</td>\n",
       "      <td>165</td>\n",
       "      <td>64.0</td>\n",
       "      <td>130</td>\n",
       "      <td>70</td>\n",
       "      <td>3</td>\n",
       "      <td>1</td>\n",
       "      <td>0</td>\n",
       "      <td>0</td>\n",
       "      <td>0</td>\n",
       "      <td>1</td>\n",
       "    </tr>\n",
       "    <tr>\n",
       "      <th>3</th>\n",
       "      <td>3</td>\n",
       "      <td>17623</td>\n",
       "      <td>2</td>\n",
       "      <td>169</td>\n",
       "      <td>82.0</td>\n",
       "      <td>150</td>\n",
       "      <td>100</td>\n",
       "      <td>1</td>\n",
       "      <td>1</td>\n",
       "      <td>0</td>\n",
       "      <td>0</td>\n",
       "      <td>1</td>\n",
       "      <td>1</td>\n",
       "    </tr>\n",
       "    <tr>\n",
       "      <th>4</th>\n",
       "      <td>4</td>\n",
       "      <td>17474</td>\n",
       "      <td>1</td>\n",
       "      <td>156</td>\n",
       "      <td>56.0</td>\n",
       "      <td>100</td>\n",
       "      <td>60</td>\n",
       "      <td>1</td>\n",
       "      <td>1</td>\n",
       "      <td>0</td>\n",
       "      <td>0</td>\n",
       "      <td>0</td>\n",
       "      <td>0</td>\n",
       "    </tr>\n",
       "  </tbody>\n",
       "</table>\n",
       "</div>"
      ],
      "text/plain": [
       "   id    age  gender  height  weight  ap_hi  ap_lo  cholesterol  gluc  smoke  \\\n",
       "0   0  18393       2     168    62.0    110     80            1     1      0   \n",
       "1   1  20228       1     156    85.0    140     90            3     1      0   \n",
       "2   2  18857       1     165    64.0    130     70            3     1      0   \n",
       "3   3  17623       2     169    82.0    150    100            1     1      0   \n",
       "4   4  17474       1     156    56.0    100     60            1     1      0   \n",
       "\n",
       "   alco  active  cardio  \n",
       "0     0       1       0  \n",
       "1     0       1       1  \n",
       "2     0       0       1  \n",
       "3     0       1       1  \n",
       "4     0       0       0  "
      ]
     },
     "execution_count": 25,
     "metadata": {},
     "output_type": "execute_result"
    }
   ],
   "source": [
    "import pandas as pd\n",
    "\n",
    "# Caricamento del dataset\n",
    "data_path = 'cardio_train.csv'\n",
    "data = pd.read_csv(data_path, sep=';')\n",
    "\n",
    "# Visualizza le prime righe del dataset\n",
    "data.head()"
   ]
  },
  {
   "cell_type": "markdown",
   "metadata": {},
   "source": [
    "## **2. Pulizia dei Dati**\n",
    "Gli outlier possono distorcere le analisi. Rimuoviamo valori anomali relativi alla pressione arteriosa, altezza e peso."
   ]
  },
  {
   "cell_type": "code",
   "execution_count": 26,
   "metadata": {},
   "outputs": [],
   "source": [
    "# Rimuovi valori irrealistici per pressione, altezza e peso\n",
    "data = data[(data['ap_hi'] >= 90) & (data['ap_hi'] <= 180)]\n",
    "data = data[(data['ap_lo'] >= 60) & (data['ap_lo'] <= 120)]\n",
    "data = data[(data['height'] >= 120) & (data['height'] <= 200)]\n",
    "data = data[(data['weight'] >= 30) & (data['weight'] <= 200)]"
   ]
  },
  {
   "cell_type": "markdown",
   "metadata": {},
   "source": [
    "## **3. Creazione di Nuove Feature**\n",
    "Indice di Massa Corporea (BMI)\n",
    "Il **BMI** è una metrica chiave per valutare il rischio cardiovascolare."
   ]
  },
  {
   "cell_type": "code",
   "execution_count": 27,
   "metadata": {},
   "outputs": [],
   "source": [
    "# Calcolo del BMI\n",
    "data['BMI'] = data['weight'] / ((data['height'] / 100) ** 2)"
   ]
  },
  {
   "cell_type": "markdown",
   "metadata": {},
   "source": [
    "**Rapporto Sistole-Diastole**"
   ]
  },
  {
   "cell_type": "code",
   "execution_count": 28,
   "metadata": {},
   "outputs": [],
   "source": [
    "# Calcolo del rapporto sistole-diastole\n",
    "data['bp_ratio'] = data['ap_hi'] / data['ap_lo']"
   ]
  },
  {
   "cell_type": "markdown",
   "metadata": {},
   "source": [
    "**Conversione età da giorni a anni**"
   ]
  },
  {
   "cell_type": "code",
   "execution_count": 29,
   "metadata": {},
   "outputs": [],
   "source": [
    "# Conversione dell'età\n",
    "data['age_years'] = (data['age'] / 365).astype(int)"
   ]
  },
  {
   "cell_type": "markdown",
   "metadata": {},
   "source": [
    "## 4. **Standardizzazione delle variabili**"
   ]
  },
  {
   "cell_type": "code",
   "execution_count": 30,
   "metadata": {},
   "outputs": [
    {
     "name": "stdout",
     "output_type": "stream",
     "text": [
      "Scaler salvato correttamente.\n",
      "Mean: [ 52.82406198  27.44793095 126.43749725  81.26471408   1.55987263]\n",
      "Variance: [4.58249791e+01 2.74759148e+01 2.54732087e+02 8.35725918e+01\n",
      " 2.01673990e-02]\n"
     ]
    },
    {
     "data": {
      "text/plain": [
       "['scaler.pkl']"
      ]
     },
     "execution_count": 30,
     "metadata": {},
     "output_type": "execute_result"
    }
   ],
   "source": [
    "from sklearn.preprocessing import StandardScaler\n",
    "import joblib\n",
    "\n",
    "# Standardizzazione delle feature numeriche\n",
    "scaler = StandardScaler()\n",
    "numerical_features = ['age_years', 'BMI', 'ap_hi', 'ap_lo', 'bp_ratio']\n",
    "data[numerical_features] = scaler.fit_transform(data[numerical_features])\n",
    "joblib.dump(scaler, 'scaler.pkl')\n",
    "print(\"Scaler salvato correttamente.\")\n",
    "print(\"Mean:\", scaler.mean_)\n",
    "print(\"Variance:\", scaler.var_)\n",
    "joblib.dump(scaler, 'scaler.pkl')\n"
   ]
  },
  {
   "cell_type": "markdown",
   "metadata": {},
   "source": [
    "## 6. **Selezione delle Feature**\n",
    "\n",
    "Determinazione delle variabili più rilevanti usando un modello Random Forest."
   ]
  },
  {
   "cell_type": "code",
   "execution_count": 19,
   "metadata": {},
   "outputs": [
    {
     "name": "stdout",
     "output_type": "stream",
     "text": [
      "        feature  importance\n",
      "8           BMI    0.474641\n",
      "10    age_years    0.155305\n",
      "1         ap_hi    0.132565\n",
      "2         ap_lo    0.079673\n",
      "9      bp_ratio    0.047297\n",
      "3   cholesterol    0.040622\n",
      "4          gluc    0.019120\n",
      "0        gender    0.017974\n",
      "7        active    0.014650\n",
      "5         smoke    0.009851\n",
      "6          alco    0.008301\n"
     ]
    }
   ],
   "source": [
    "from sklearn.ensemble import RandomForestClassifier\n",
    "import pandas as pd\n",
    "\n",
    "# Rimuovi le feature inutili o ridondanti\n",
    "data = data.drop(columns=['id', 'age', 'weight', 'height'])\n",
    "\n",
    "# Dividi il dataset in feature e target\n",
    "X = data.drop('cardio', axis=1)\n",
    "y = data['cardio']\n",
    "\n",
    "# Allenamento di Random Forest per l'importanza delle feature\n",
    "rf = RandomForestClassifier(random_state=42)\n",
    "rf.fit(X, y)\n",
    "\n",
    "# Visualizza l'importanza delle feature\n",
    "feature_importances = pd.DataFrame({\n",
    "    'feature': X.columns,\n",
    "    'importance': rf.feature_importances_\n",
    "}).sort_values(by='importance', ascending=False)\n",
    "\n",
    "print(feature_importances)\n"
   ]
  },
  {
   "cell_type": "code",
   "execution_count": 20,
   "metadata": {},
   "outputs": [
    {
     "name": "stdout",
     "output_type": "stream",
     "text": [
      "        feature  importance\n",
      "10    age_years    0.278108\n",
      "1         ap_hi    0.272635\n",
      "8           BMI    0.268670\n",
      "3   cholesterol    0.136134\n",
      "0        gender    0.111271\n",
      "2         ap_lo    0.108911\n",
      "9      bp_ratio    0.102035\n",
      "7        active    0.084970\n",
      "4          gluc    0.067910\n",
      "5         smoke    0.033538\n",
      "6          alco    0.019683\n"
     ]
    }
   ],
   "source": [
    "from sklearn.inspection import permutation_importance\n",
    "\n",
    "# Calcola l'importanza tramite permutazione\n",
    "perm_importance = permutation_importance(rf, X, y, scoring='accuracy', random_state=42)\n",
    "\n",
    "# Organizza i risultati in un DataFrame\n",
    "perm_importances = pd.DataFrame({\n",
    "    'feature': X.columns,\n",
    "    'importance': perm_importance.importances_mean\n",
    "}).sort_values(by='importance', ascending=False)\n",
    "\n",
    "print(perm_importances)"
   ]
  },
  {
   "cell_type": "markdown",
   "metadata": {},
   "source": [
    "## **Analisi delle Feature: Confronto tra Random Forest e Permutation Importance**\n",
    "\n",
    "### **1. Risultati Originali (Random Forest Importance)**\n",
    "La Random Forest calcola l'importanza delle feature in base al decremento dell'impurità del nodo (Gini Impurity) aggregato su tutti gli alberi. Ecco i risultati iniziali:\n",
    "\n",
    "| **Feature**     | **Importance** |\n",
    "|------------------|----------------|\n",
    "| BMI             | 0.4746         |\n",
    "| age_years       | 0.1553         |\n",
    "| ap_hi           | 0.1326         |\n",
    "| ap_lo           | 0.0797         |\n",
    "| bp_ratio        | 0.0473         |\n",
    "| cholesterol     | 0.0406         |\n",
    "| gluc            | 0.0191         |\n",
    "| gender          | 0.0179         |\n",
    "| active          | 0.0147         |\n",
    "| smoke           | 0.0099         |\n",
    "| alco            | 0.0083         |\n",
    "\n",
    "- **Osservazioni**:\n",
    "  - **BMI** domina come feature più importante.\n",
    "  - **smoke** e **alco** sono classificate come meno influenti, probabilmente a causa dello squilibrio nei dati (pochi valori \"1\").\n",
    "\n",
    "### **2. Risultati con Permutation Importance**\n",
    "La Permutation Importance valuta l'importanza delle feature mescolandole casualmente e misurando l'impatto sulla performance del modello. Risultati:\n",
    "\n",
    "| **Feature**     | **Importance** |\n",
    "|------------------|----------------|\n",
    "| age_years       | 0.2781         |\n",
    "| ap_hi           | 0.2726         |\n",
    "| BMI             | 0.2687         |\n",
    "| cholesterol     | 0.1361         |\n",
    "| gender          | 0.1113         |\n",
    "| ap_lo           | 0.1089         |\n",
    "| bp_ratio        | 0.1020         |\n",
    "| active          | 0.0850         |\n",
    "| gluc            | 0.0679         |\n",
    "| smoke           | 0.0335         |\n",
    "| alco            | 0.0197         |\n",
    "\n",
    "- **Osservazioni**:\n",
    "  - **age_years**, **ap_hi**, e **BMI** sono comparabili in importanza, suggerendo che il loro contributo predittivo è simile.\n",
    "  - **smoke** e **alco** hanno ora valori leggermente più alti rispetto alla Random Forest, indicando che la loro bassa importanza precedente era influenzata dallo squilibrio nei dati.\n",
    "\n",
    "### **3. Perché Permutation Importance è Fondamentale?**\n",
    "La Permutation Importance è fondamentale perché:\n",
    "1. **Non è influenzata dagli squilibri nei dati**: Valuta l'impatto effettivo di ogni feature sulla predizione, indipendentemente dalla frequenza dei valori.\n",
    "2. **Considera l'interazione tra le feature**: Diversamente dalla Random Forest, che può sottostimare l'importanza delle feature che interagiscono con altre.\n",
    "3. **Fornisce un'interpretazione più robusta**: Mescolando una feature alla volta, si osserva il cambiamento diretto nella performance del modello, fornendo una visione chiara del suo contributo.\n",
    "\n",
    "### **4. Conclusioni**\n",
    "- **BMI**, **age_years**, e **ap_hi** sono fondamentali in entrambi i metodi, confermando la loro rilevanza.\n",
    "- **smoke** e **alco**, sebbene meno influenti, hanno un ruolo che potrebbe essere sottovalutato dalla Random Forest.\n",
    "- La Permutation Importance è particolarmente utile quando si lavora con dataset sbilanciati o con feature che interagiscono fortemente con altre.\n",
    "\n",
    "**Raccomandazione**: Considerare entrambe le tecniche per un'analisi completa dell'importanza delle feature. Includere feature come **smoke** e **alco** potrebbe essere giustificato per ottenere una visione più ampia del problema.\n"
   ]
  },
  {
   "cell_type": "code",
   "execution_count": 21,
   "metadata": {},
   "outputs": [
    {
     "name": "stdout",
     "output_type": "stream",
     "text": [
      "Dataset esportato come: prepared_cardio_train.csv\n"
     ]
    }
   ],
   "source": [
    "# Esporta il dataset preparato\n",
    "prepared_file_path = 'prepared_cardio_train.csv'\n",
    "\n",
    "# Salva il dataset preprocessato in formato CSV\n",
    "data.to_csv(prepared_file_path, index=False)\n",
    "\n",
    "print(f\"Dataset esportato come: {prepared_file_path}\")\n"
   ]
  }
 ],
 "metadata": {
  "kernelspec": {
   "display_name": "base",
   "language": "python",
   "name": "python3"
  },
  "language_info": {
   "codemirror_mode": {
    "name": "ipython",
    "version": 3
   },
   "file_extension": ".py",
   "mimetype": "text/x-python",
   "name": "python",
   "nbconvert_exporter": "python",
   "pygments_lexer": "ipython3",
   "version": "3.12.3"
  }
 },
 "nbformat": 4,
 "nbformat_minor": 2
}

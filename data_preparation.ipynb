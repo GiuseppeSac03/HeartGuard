{
 "cells": [
  {
   "cell_type": "markdown",
   "metadata": {},
   "source": [
    "# Data Preparation\n",
    "L'obiettivo di questa fase è preparare i dati per la modellazione, includendo:\n",
    "- Pulizia dei dati\n",
    "- Feature engineering\n",
    "- Encoding delle variabili categoriche\n",
    "- Scaling delle variabili numeriche\n",
    "- Feature selection\n",
    "\n",
    "---\n"
   ]
  },
  {
   "cell_type": "code",
   "execution_count": 1,
   "metadata": {},
   "outputs": [],
   "source": [
    "import pandas as pd\n",
    "import numpy as np\n",
    "from sklearn.preprocessing import StandardScaler, LabelEncoder\n",
    "from sklearn.ensemble import RandomForestClassifier"
   ]
  },
  {
   "cell_type": "code",
   "execution_count": 2,
   "metadata": {},
   "outputs": [],
   "source": [
    "# Caricamento del dataset\n",
    "data = pd.read_csv('heart_disease.csv')"
   ]
  },
  {
   "cell_type": "markdown",
   "metadata": {},
   "source": [
    "# 0. Conversione di Yes/No in 1/0\n",
    "Le colonne con valori `Yes` e `No` vengono trasformate in valori numerici `1` e `0` per l'analisi."
   ]
  },
  {
   "cell_type": "code",
   "execution_count": 3,
   "metadata": {},
   "outputs": [],
   "source": [
    "# Identificazione delle colonne con valori Yes/No\n",
    "yes_no_columns = ['Heart Disease Status', 'Smoking', 'Family Heart Disease', 'Diabetes', \n",
    "                  'High Blood Pressure', 'Low HDL Cholesterol', 'High LDL Cholesterol']\n",
    "\n",
    "# Conversione Yes/No -> 1/0\n",
    "for col in yes_no_columns:\n",
    "    data[col] = data[col].map({'Yes': 1, 'No': 0})\n"
   ]
  },
  {
   "cell_type": "markdown",
   "metadata": {},
   "source": [
    "# 1. Gestione dei Valori Mancanti\n",
    "In questa sezione, gestiamo i valori mancanti:\n",
    "- Per variabili numeriche: Imputazione con la media.\n",
    "- Per variabili categoriche:\n",
    "  - Per `Alcohol Consumption`, creiamo una nuova categoria \"Unknown\".\n",
    "  - Per le altre, imputiamo con la moda."
   ]
  },
  {
   "cell_type": "code",
   "execution_count": 4,
   "metadata": {},
   "outputs": [
    {
     "name": "stderr",
     "output_type": "stream",
     "text": [
      "C:\\Users\\giu30\\AppData\\Local\\Temp\\ipykernel_13656\\551113754.py:7: FutureWarning: A value is trying to be set on a copy of a DataFrame or Series through chained assignment using an inplace method.\n",
      "The behavior will change in pandas 3.0. This inplace method will never work because the intermediate object on which we are setting values always behaves as a copy.\n",
      "\n",
      "For example, when doing 'df[col].method(value, inplace=True)', try using 'df.method({col: value}, inplace=True)' or df[col] = df[col].method(value) instead, to perform the operation inplace on the original object.\n",
      "\n",
      "\n",
      "  data[col].fillna(data[col].mean(), inplace=True)\n",
      "C:\\Users\\giu30\\AppData\\Local\\Temp\\ipykernel_13656\\551113754.py:21: FutureWarning: A value is trying to be set on a copy of a DataFrame or Series through chained assignment using an inplace method.\n",
      "The behavior will change in pandas 3.0. This inplace method will never work because the intermediate object on which we are setting values always behaves as a copy.\n",
      "\n",
      "For example, when doing 'df[col].method(value, inplace=True)', try using 'df.method({col: value}, inplace=True)' or df[col] = df[col].method(value) instead, to perform the operation inplace on the original object.\n",
      "\n",
      "\n",
      "  data[col].fillna(data[col].mode()[0], inplace=True)\n"
     ]
    }
   ],
   "source": [
    "# Imputazione dei valori mancanti per variabili numeriche\n",
    "numerical_columns = ['Age', 'Blood Pressure', 'Cholesterol Level', 'BMI', \n",
    "                     'Triglyceride Level', 'Fasting Blood Sugar', 'CRP Level', 'Homocysteine Level', 'Sleep Hours']\n",
    "\n",
    "for col in numerical_columns:\n",
    "    # Usare la media preserva i valori numerici e riduce l'impatto dei valori mancanti\n",
    "    data[col].fillna(data[col].mean(), inplace=True)\n",
    "\n",
    "# Creazione della categoria \"Unknown\" per Alcohol Consumption\n",
    "# Motivazione: Il 26% dei dati mancanti è significativo; trattarli come una categoria separata\n",
    "# permette di non distorcere la distribuzione esistente.\n",
    "data['Alcohol Consumption'] = data['Alcohol Consumption'].fillna('Unknown')\n",
    "\n",
    "# Imputazione con la moda per altre variabili categoriche\n",
    "categorical_columns = ['Gender', 'Exercise Habits', 'Smoking', 'Family Heart Disease', \n",
    "                       'Diabetes', 'High Blood Pressure', 'Low HDL Cholesterol', \n",
    "                       'High LDL Cholesterol', 'Stress Level', 'Sugar Consumption']\n",
    "\n",
    "for col in categorical_columns:\n",
    "    # Usare la moda è una scelta semplice per preservare la distribuzione dei dati categorici\n",
    "    data[col].fillna(data[col].mode()[0], inplace=True)\n"
   ]
  },
  {
   "cell_type": "markdown",
   "metadata": {},
   "source": [
    "# 2. Gestione degli Outlier\n",
    "Gli outlier vengono trattati utilizzando il metodo di capping, limitando i valori estremi ai limiti IQR.\n",
    "Questo metodo riduce l'impatto degli outlier senza rimuovere record utili.\n"
   ]
  },
  {
   "cell_type": "code",
   "execution_count": 5,
   "metadata": {},
   "outputs": [],
   "source": [
    "# Trattamento degli outlier\n",
    "for col in numerical_columns:\n",
    "    Q1 = data[col].quantile(0.25)\n",
    "    Q3 = data[col].quantile(0.75)\n",
    "    IQR = Q3 - Q1\n",
    "    lower_bound = Q1 - 1.5 * IQR\n",
    "    upper_bound = Q3 + 1.5 * IQR\n",
    "    data[col] = data[col].clip(lower=lower_bound, upper=upper_bound)\n"
   ]
  },
  {
   "cell_type": "markdown",
   "metadata": {},
   "source": [
    "# 3. Feature Engineering\n",
    "Creazione di nuove feature:\n",
    "- **Cholesterol_BMI_Ratio**: Rapporto tra colesterolo e BMI.\n",
    "- **Stress_Sleep_Index**: Indice che combina il livello di stress e le ore di sonno.\n"
   ]
  },
  {
   "cell_type": "code",
   "execution_count": 6,
   "metadata": {},
   "outputs": [],
   "source": [
    "# Creazione di nuove feature\n",
    "data['Cholesterol_BMI_Ratio'] = data['Cholesterol Level'] / data['BMI']\n",
    "data['Stress_Sleep_Index'] = data['Stress Level'].map({'Low': 1, 'Medium': 2, 'High': 3}) / data['Sleep Hours']"
   ]
  },
  {
   "cell_type": "markdown",
   "metadata": {},
   "source": [
    "# 4. Encoding delle Variabili Categoriali\n",
    "- **One-Hot Encoding** per variabili categoriche senza ordine.\n",
    "- **Label Encoding** per variabili ordinali.\n"
   ]
  },
  {
   "cell_type": "code",
   "execution_count": 7,
   "metadata": {},
   "outputs": [
    {
     "name": "stdout",
     "output_type": "stream",
     "text": [
      "Dati dopo l'encoding:\n",
      "    Age  Blood Pressure  Cholesterol Level  Diabetes        BMI  \\\n",
      "0  56.0           153.0              155.0       0.0  24.991591   \n",
      "1  69.0           146.0              286.0       1.0  25.221799   \n",
      "2  46.0           126.0              216.0       0.0  29.855447   \n",
      "3  32.0           122.0              293.0       0.0  24.130477   \n",
      "4  60.0           166.0              242.0       1.0  20.486289   \n",
      "\n",
      "   High Blood Pressure  Low HDL Cholesterol  High LDL Cholesterol  \\\n",
      "0                  1.0                  1.0                   0.0   \n",
      "1                  0.0                  1.0                   0.0   \n",
      "2                  0.0                  1.0                   1.0   \n",
      "3                  1.0                  0.0                   1.0   \n",
      "4                  1.0                  0.0                   0.0   \n",
      "\n",
      "   Stress Level  Sleep Hours  ...  Cholesterol_BMI_Ratio  Stress_Sleep_Index  \\\n",
      "0             2     7.633228  ...               6.202086            0.262012   \n",
      "1             0     8.744034  ...              11.339398            0.343091   \n",
      "2             1     4.440440  ...               7.234861            0.225203   \n",
      "3             0     5.249405  ...              12.142321            0.571493   \n",
      "4             0     7.030971  ...              11.812779            0.426684   \n",
      "\n",
      "   Gender_Male  Exercise Habits_Low  Exercise Habits_Medium  Smoking_1.0  \\\n",
      "0         True                False                   False         True   \n",
      "1        False                False                   False        False   \n",
      "2         True                 True                   False        False   \n",
      "3        False                False                   False         True   \n",
      "4         True                 True                   False         True   \n",
      "\n",
      "   Family Heart Disease_1.0  Alcohol Consumption_Low  \\\n",
      "0                      True                    False   \n",
      "1                      True                    False   \n",
      "2                     False                     True   \n",
      "3                      True                     True   \n",
      "4                      True                     True   \n",
      "\n",
      "   Alcohol Consumption_Medium  Alcohol Consumption_Unknown  \n",
      "0                       False                        False  \n",
      "1                        True                        False  \n",
      "2                       False                        False  \n",
      "3                       False                        False  \n",
      "4                       False                        False  \n",
      "\n",
      "[5 rows x 26 columns]\n"
     ]
    }
   ],
   "source": [
    "from sklearn.preprocessing import LabelEncoder\n",
    "\n",
    "# One-Hot Encoding per variabili categoriche senza ordine\n",
    "# Scelta: Converte le categorie in colonne binarie, mantenendo la variabilità\n",
    "data = pd.get_dummies(data, columns=['Gender', 'Exercise Habits', 'Smoking', \n",
    "                                     'Family Heart Disease', 'Alcohol Consumption'], drop_first=True)\n",
    "\n",
    "# Label Encoding per variabili categoriche ordinali\n",
    "# Scelta: Mantiene l'ordine delle categorie (es. Low < Medium < High)\n",
    "ordinal_columns = ['Stress Level', 'Sugar Consumption']\n",
    "\n",
    "le = LabelEncoder()\n",
    "for col in ordinal_columns:\n",
    "    data[col] = le.fit_transform(data[col])\n",
    "\n",
    "# Verifica finale\n",
    "print(\"Dati dopo l'encoding:\")\n",
    "print(data.head())\n"
   ]
  },
  {
   "cell_type": "markdown",
   "metadata": {},
   "source": [
    "# 5. Scaling delle Variabili Numeriche\n",
    "Le variabili numeriche vengono standardizzate per normalizzarne i range."
   ]
  },
  {
   "cell_type": "code",
   "execution_count": 8,
   "metadata": {},
   "outputs": [],
   "source": [
    "# Standardizzazione delle variabili numeriche\n",
    "scaler = StandardScaler()\n",
    "data[numerical_columns] = scaler.fit_transform(data[numerical_columns])"
   ]
  },
  {
   "cell_type": "markdown",
   "metadata": {},
   "source": [
    "# 6. Feature Selection\n",
    "Viene utilizzato un modello Random Forest per identificare le feature più rilevanti."
   ]
  },
  {
   "cell_type": "code",
   "execution_count": 9,
   "metadata": {},
   "outputs": [
    {
     "name": "stdout",
     "output_type": "stream",
     "text": [
      "Feature Importances:\n",
      " Homocysteine Level             0.082072\n",
      "CRP Level                      0.081803\n",
      "BMI                            0.080264\n",
      "Sleep Hours                    0.079622\n",
      "Cholesterol_BMI_Ratio          0.078634\n",
      "Stress_Sleep_Index             0.077934\n",
      "Triglyceride Level             0.076785\n",
      "Cholesterol Level              0.071034\n",
      "Fasting Blood Sugar            0.069916\n",
      "Age                            0.068912\n",
      "Blood Pressure                 0.067032\n",
      "Sugar Consumption              0.019216\n",
      "Stress Level                   0.014000\n",
      "Diabetes                       0.012423\n",
      "Low HDL Cholesterol            0.012177\n",
      "High Blood Pressure            0.011960\n",
      "Smoking_1.0                    0.011956\n",
      "Family Heart Disease_1.0       0.011703\n",
      "High LDL Cholesterol           0.011579\n",
      "Exercise Habits_Low            0.010871\n",
      "Gender_Male                    0.010627\n",
      "Exercise Habits_Medium         0.010605\n",
      "Alcohol Consumption_Low        0.009802\n",
      "Alcohol Consumption_Unknown    0.009688\n",
      "Alcohol Consumption_Medium     0.009386\n",
      "dtype: float64\n"
     ]
    }
   ],
   "source": [
    "# Feature importance con Random Forest\n",
    "X = data.drop('Heart Disease Status', axis=1)\n",
    "y = data['Heart Disease Status']\n",
    "\n",
    "rf = RandomForestClassifier(random_state=42)\n",
    "rf.fit(X, y)\n",
    "\n",
    "importances = pd.Series(rf.feature_importances_, index=X.columns).sort_values(ascending=False)\n",
    "print(\"Feature Importances:\\n\", importances)\n"
   ]
  },
  {
   "cell_type": "markdown",
   "metadata": {},
   "source": [
    "# 8. Salvataggio del Dataset\n",
    "Il dataset preparato viene salvato per la fase di modellazione.\n"
   ]
  },
  {
   "cell_type": "code",
   "execution_count": 10,
   "metadata": {},
   "outputs": [
    {
     "name": "stdout",
     "output_type": "stream",
     "text": [
      "Dataset preparato salvato con successo.\n"
     ]
    }
   ],
   "source": [
    "# Salvataggio del dataset\n",
    "data.to_csv('prepared_heart_disease_dataset.csv', index=False)\n",
    "print(\"Dataset preparato salvato con successo.\")"
   ]
  }
 ],
 "metadata": {
  "kernelspec": {
   "display_name": "base",
   "language": "python",
   "name": "python3"
  },
  "language_info": {
   "codemirror_mode": {
    "name": "ipython",
    "version": 3
   },
   "file_extension": ".py",
   "mimetype": "text/x-python",
   "name": "python",
   "nbconvert_exporter": "python",
   "pygments_lexer": "ipython3",
   "version": "3.12.3"
  }
 },
 "nbformat": 4,
 "nbformat_minor": 2
}

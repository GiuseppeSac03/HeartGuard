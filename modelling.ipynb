{
 "cells": [
  {
   "cell_type": "markdown",
   "metadata": {},
   "source": [
    "# **Fase di Modellazione**\n",
    "\n",
    "## **1. Introduzione**\n",
    "In questa fase, lavoriamo con il dataset preprocessato per creare un modello di machine learning in grado di predire la presenza di malattie cardiovascolari. I passaggi principali includono:\n",
    "1. **Caricamento del dataset preprocessato.**\n",
    "2. **Selezione degli algoritmi di machine learning.**\n",
    "3. **Addestramento e configurazione dei modelli.**\n",
    "4. **Valutazione delle performance tramite benchmarking.**\n"
   ]
  },
  {
   "cell_type": "code",
   "execution_count": 4,
   "metadata": {},
   "outputs": [],
   "source": [
    "import pandas as pd\n",
    "from sklearn.model_selection import train_test_split\n",
    "\n",
    "# Caricamento del dataset preprocessato\n",
    "data = pd.read_csv('prepared_cardio_train.csv')\n",
    "\n",
    "# Separazione delle feature e del target\n",
    "X = data.drop('cardio', axis=1)\n",
    "y = data['cardio']\n",
    "\n",
    "# Divisione in training e test set\n",
    "X_train, X_test, y_train, y_test = train_test_split(X, y, test_size=0.2, random_state=42)\n"
   ]
  },
  {
   "cell_type": "code",
   "execution_count": 3,
   "metadata": {},
   "outputs": [
    {
     "name": "stdout",
     "output_type": "stream",
     "text": [
      "                 Model  Accuracy  Precision    Recall  F1 Score\n",
      "2                  SVM  0.730521   0.761557  0.663754  0.709300\n",
      "0  Logistic Regression  0.725972   0.751753  0.667012  0.706852\n",
      "3                  KNN  0.696185   0.696536  0.685084  0.690762\n",
      "1        Random Forest  0.683786   0.677064  0.691305  0.684110\n"
     ]
    }
   ],
   "source": [
    "from sklearn.ensemble import RandomForestClassifier\n",
    "from sklearn.linear_model import LogisticRegression\n",
    "from sklearn.svm import SVC\n",
    "from sklearn.neighbors import KNeighborsClassifier\n",
    "from sklearn.metrics import accuracy_score, precision_score, recall_score, f1_score\n",
    "\n",
    "# Inizializzazione dei modelli\n",
    "models = {\n",
    "    'Logistic Regression': LogisticRegression(random_state=42, max_iter=1000),\n",
    "    'Random Forest': RandomForestClassifier(random_state=42),\n",
    "    'SVM': SVC(random_state=42),\n",
    "    'KNN': KNeighborsClassifier()\n",
    "}\n",
    "\n",
    "# Addestramento e valutazione\n",
    "results = []\n",
    "\n",
    "for model_name, model in models.items():\n",
    "    # Addestramento\n",
    "    model.fit(X_train, y_train)\n",
    "    # Predizioni\n",
    "    y_pred = model.predict(X_test)\n",
    "    # Valutazione\n",
    "    results.append({\n",
    "        'Model': model_name,\n",
    "        'Accuracy': accuracy_score(y_test, y_pred),\n",
    "        'Precision': precision_score(y_test, y_pred),\n",
    "        'Recall': recall_score(y_test, y_pred),\n",
    "        'F1 Score': f1_score(y_test, y_pred)\n",
    "    })\n",
    "\n",
    "# Creazione di un DataFrame con i risultati\n",
    "results_df = pd.DataFrame(results).sort_values(by='F1 Score', ascending=False)\n",
    "print(results_df)\n"
   ]
  },
  {
   "cell_type": "markdown",
   "metadata": {},
   "source": [
    "# **Selezione e Ottimizzazione del Modello**\n",
    "\n",
    "## **1. Modello Selezionato**\n",
    "Dopo aver confrontato diversi algoritmi, abbiamo selezionato il modello **SVM** come il migliore per il problema di predizione delle malattie cardiovascolari. Il modello ha ottenuto il punteggio più alto in termini di F1 Score (0.7093), mostrando un buon equilibrio tra precision e recall.\n",
    "\n",
    "## **2. Obiettivo**\n",
    "Ora procediamo con l'ottimizzazione dei parametri del modello SVM utilizzando la tecnica di Grid Search per trovare la configurazione ottimale.\n"
   ]
  },
  {
   "cell_type": "code",
   "execution_count": 4,
   "metadata": {},
   "outputs": [
    {
     "name": "stdout",
     "output_type": "stream",
     "text": [
      "GridSearch Progress:   0%|          | 0/270 [00:00<?, ?it/s]"
     ]
    },
    {
     "name": "stdout",
     "output_type": "stream",
     "text": [
      "GridSearch Progress:   0%|          | 0/270 [2:14:42<?, ?it/s]\n",
      "Miglior modello: {'C': 1, 'degree': 2, 'gamma': 'auto', 'kernel': 'rbf'}\n",
      "\n",
      "Report di classificazione per il modello ottimizzato:\n",
      "              precision    recall  f1-score   support\n",
      "\n",
      "           0       0.71      0.80      0.75      6879\n",
      "           1       0.76      0.66      0.71      6751\n",
      "\n",
      "    accuracy                           0.73     13630\n",
      "   macro avg       0.73      0.73      0.73     13630\n",
      "weighted avg       0.73      0.73      0.73     13630\n",
      "\n"
     ]
    }
   ],
   "source": [
    "from sklearn.model_selection import GridSearchCV\n",
    "from sklearn.svm import SVC\n",
    "from sklearn.metrics import classification_report\n",
    "from tqdm import tqdm\n",
    "from joblib import Parallel, delayed\n",
    "import sys\n",
    "\n",
    "class TQDMGridSearchCV(GridSearchCV):\n",
    "    def fit(self, X, y=None, **fit_params):\n",
    "        total = len(self.param_grid['C']) * len(self.param_grid['kernel']) * len(self.param_grid['gamma']) * len(self.param_grid.get('degree', [1])) * self.cv\n",
    "        self.pbar = tqdm(total=total, desc=\"GridSearch Progress\", file=sys.stdout)\n",
    "        \n",
    "        def _parallel_fit(*args, **kwargs):\n",
    "            result = super()._parallel_fit(*args, **kwargs)\n",
    "            self.pbar.update(1)\n",
    "            return result\n",
    "        \n",
    "        # Override the parallel_fit method\n",
    "        self._parallel_fit = _parallel_fit\n",
    "        return super().fit(X, y, **fit_params)\n",
    "\n",
    "# Definizione del modello SVM\n",
    "svm_model = SVC(random_state=42)\n",
    "\n",
    "# Definizione della griglia di parametri\n",
    "param_grid = {\n",
    "    'C': [0.1, 1, 10],\n",
    "    'kernel': ['linear', 'rbf', 'poly'],\n",
    "    'gamma': ['scale', 'auto'],\n",
    "    'degree': [2, 3, 4]  # Usato solo per kernel 'poly'\n",
    "}\n",
    "\n",
    "# Inizializzazione della Grid Search con la classe personalizzata\n",
    "grid_search = TQDMGridSearchCV(\n",
    "    estimator=svm_model,\n",
    "    param_grid=param_grid,\n",
    "    scoring='f1',\n",
    "    cv=5,\n",
    "    verbose=0,\n",
    "    n_jobs=-1\n",
    ")\n",
    "\n",
    "# Addestramento del modello con Grid Search\n",
    "grid_search.fit(X_train, y_train)\n",
    "\n",
    "# Chiudere la barra di avanzamento\n",
    "grid_search.pbar.close()\n",
    "\n",
    "# Miglior modello e parametri\n",
    "best_model = grid_search.best_estimator_\n",
    "print(\"Miglior modello:\", grid_search.best_params_)\n",
    "\n",
    "# Valutazione del modello ottimizzato\n",
    "y_pred_optimized = best_model.predict(X_test)\n",
    "print(\"\\nReport di classificazione per il modello ottimizzato:\")\n",
    "print(classification_report(y_test, y_pred_optimized))\n"
   ]
  },
  {
   "cell_type": "markdown",
   "metadata": {},
   "source": [
    "### Analisi dei Risultati\n",
    "\n",
    "#### Confronto tra i risultati pre e post Grid Search\n",
    "\n",
    "1. **Accuracy**:\n",
    "   - Pre Grid Search: 0.7305\n",
    "   - Post Grid Search: 0.73\n",
    "   - L'accuracy rimane sostanzialmente invariata, suggerendo che il modello ottimizzato tramite Grid Search non ha apportato un miglioramento significativo in termini di accuratezza complessiva.\n",
    "\n",
    "2. **Precision**:\n",
    "   - Pre Grid Search: 0.7616\n",
    "   - Post Grid Search:\n",
    "     - Classe 0: 0.71\n",
    "     - Classe 1: 0.76\n",
    "     - Macro Avg: 0.73\n",
    "   - La precisione generale sembra essere leggermente più bilanciata post Grid Search, ma non raggiunge i valori precedenti per tutte le classi.\n",
    "\n",
    "3. **Recall**:\n",
    "   - Pre Grid Search: 0.6638\n",
    "   - Post Grid Search:\n",
    "     - Classe 0: 0.80\n",
    "     - Classe 1: 0.66\n",
    "     - Macro Avg: 0.73\n",
    "   - Grid Search ha migliorato notevolmente il recall per la classe 0, ma a scapito della classe 1, portando il valore medio (Macro Avg) a un risultato più bilanciato.\n",
    "\n",
    "4. **F1 Score**:\n",
    "   - Pre Grid Search: 0.7093\n",
    "   - Post Grid Search:\n",
    "     - Classe 0: 0.75\n",
    "     - Classe 1: 0.71\n",
    "     - Macro Avg: 0.73\n",
    "   - L'ottimizzazione ha aumentato l'F1 Score per entrambe le classi, migliorando la performance complessiva.\n",
    "\n",
    "#### Osservazioni chiave\n",
    "\n",
    "- **Grid Search ha migliorato il bilanciamento** tra le metriche per le diverse classi, il che potrebbe essere importante per un task con classi sbilanciate.\n",
    "- **Stabilità della Accuracy**: L'accuratezza rimane invariata, ma altre metriche come Precision, Recall e F1 Score mostrano un miglioramento qualitativo.\n",
    "- **Beneficio principale**: La configurazione ottimale dei parametri (`{'C': 1, 'degree': 2, 'gamma': 'auto', 'kernel': 'rbf'}`) ha permesso di ottenere un modello più bilanciato.\n",
    "\n",
    "In sintesi, anche se l'accuracy non è cambiata, Grid Search ha migliorato significativamente la distribuzione delle performance tra le classi, rendendo il modello più robusto e adatto per un contesto applicativo che richiede attenzione a metriche multiple.\n"
   ]
  },
  {
   "cell_type": "code",
   "execution_count": 9,
   "metadata": {},
   "outputs": [
    {
     "name": "stdout",
     "output_type": "stream",
     "text": [
      "Modello addestrato con i parametri ottimizzati!\n",
      "Modello salvato come 'svm_cardio_model.pkl'\n"
     ]
    }
   ],
   "source": [
    "from sklearn.svm import SVC\n",
    "import joblib\n",
    "\n",
    "# Definizione del modello SVM con i parametri ottimizzati\n",
    "optimized_model = SVC(C=1, degree=2, gamma='auto', kernel='rbf', random_state=42)\n",
    "\n",
    "# Addestramento del modello\n",
    "optimized_model.fit(X_train, y_train)\n",
    "print(\"Modello addestrato con i parametri ottimizzati!\")\n",
    "\n",
    "# Salvataggio del modello\n",
    "joblib.dump(optimized_model, 'svm_cardio_model.pkl')\n",
    "print(\"Modello salvato come 'svm_cardio_model.pkl'\")\n"
   ]
  }
 ],
 "metadata": {
  "kernelspec": {
   "display_name": "base",
   "language": "python",
   "name": "python3"
  },
  "language_info": {
   "codemirror_mode": {
    "name": "ipython",
    "version": 3
   },
   "file_extension": ".py",
   "mimetype": "text/x-python",
   "name": "python",
   "nbconvert_exporter": "python",
   "pygments_lexer": "ipython3",
   "version": "3.12.3"
  }
 },
 "nbformat": 4,
 "nbformat_minor": 2
}
